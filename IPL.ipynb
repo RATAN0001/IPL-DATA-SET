{
  "cells": [
    {
      "cell_type": "markdown",
      "metadata": {
        "id": "view-in-github",
        "colab_type": "text"
      },
      "source": [
        "<a href=\"https://colab.research.google.com/github/RATAN0001/IPL-DATA-SET/blob/main/IPL.ipynb\" target=\"_parent\"><img src=\"https://colab.research.google.com/assets/colab-badge.svg\" alt=\"Open In Colab\"/></a>"
      ]
    },
    {
      "cell_type": "code",
      "execution_count": null,
      "id": "2dae7f15-72bf-4a8f-a087-60e10dfd7464",
      "metadata": {
        "id": "2dae7f15-72bf-4a8f-a087-60e10dfd7464"
      },
      "outputs": [],
      "source": [
        "#Import numpy\n",
        "import numpy as np\n",
        "\n",
        "#Seasons\n",
        "Seasons = [\"2015\",\"2016\",\"2017\",\"2018\",\"2019\",\"2020\",\"2021\",\"2022\",\"2023\",\"2024\"]\n",
        "Sdict = {\"2015\":0,\"2016\":1,\"2017\":2,\"2018\":3,\"2019\":4,\"2020\":5,\"2021\":6,\"2022\":7,\"2023\":8,\"2024\":9}\n",
        "\n",
        "#Players\n",
        "Players = [\"Sachin\",\"Rahul\",\"Smith\",\"Sami\",\"Pollard\",\"Morris\",\"Samson\",\"Dhoni\",\"Kohli\",\"Sky\"]\n",
        "Pdict = {\"Sachin\":0,\"Rahul\":1,\"Smith\":2,\"Sami\":3,\"Pollard\":4,\"Morris\":5,\"Samson\":6,\"Dhoni\":7,\"Kohli\":8,\"Sky\":9}\n",
        "\n",
        "#Salaries\n",
        "Sachin_Salary = [15946875,17718750,19490625,21262500,23034375,24806250,25244493,27849149,30453805,23500000]\n",
        "Rahul_Salary = [12000000,12744189,13488377,14232567,14976754,16324500,18038573,19752645,21466718,23180790]\n",
        "Smith_Salary = [4621800,5828090,13041250,14410581,15779912,14500000,16022500,17545000,19067500,20644400]\n",
        "Sami_Salary = [3713640,4694041,13041250,14410581,15779912,17149243,18518574,19450000,22407474,22458000]\n",
        "Pollard_Salary = [4493160,4806720,6061274,13758000,15202590,16647180,18091770,19536360,20513178,21436271]\n",
        "Morris_Salary = [3348000,4235220,12455000,14410581,15779912,14500000,16022500,17545000,19067500,20644400]\n",
        "Samson_Salary = [3144240,3380160,3615960,4574189,13520500,14940153,16359805,17779458,18668431,20068563]\n",
        "Dhoni_Salary = [0,0,4171200,4484040,4796880,6053663,15506632,16669630,17832627,18995624]\n",
        "Kohli_Salary = [0,0,0,4822800,5184480,5546160,6993708,16402500,17632688,18862875]\n",
        "Sky_Salary = [3031920,3841443,13041250,14410581,15779912,14200000,15691000,17182000,18673000,15000000]\n",
        "#Matrix\n",
        "Salary = np.array([Sachin_Salary, Rahul_Salary, Smith_Salary, Sami_Salary, Pollard_Salary, Morris_Salary, Samson_Salary, Dhoni_Salary, Kohli_Salary, Sky_Salary])\n",
        "\n",
        "#Games\n",
        "Sachin_G = [80,77,82,82,73,82,58,78,6,35]\n",
        "Rahul_G = [82,57,82,79,76,72,60,72,79,80]\n",
        "Smith_G = [79,78,75,81,76,79,62,76,77,69]\n",
        "Sami_G = [80,65,77,66,69,77,55,67,77,40]\n",
        "Pollard_G = [82,82,82,79,82,78,54,76,71,41]\n",
        "Morris_G = [70,69,67,77,70,77,57,74,79,44]\n",
        "Samson_G = [78,64,80,78,45,80,60,70,62,82]\n",
        "Dhoni_G = [35,35,80,74,82,78,66,81,81,27]\n",
        "Kohli_G = [40,40,40,81,78,81,39,0,10,51]\n",
        "Sky_G = [75,51,51,79,77,76,49,69,54,62]\n",
        "#Matrix\n",
        "Games = np.array([Sachin_G, Rahul_G, Smith_G, Sami_G, Pollard_G, Morris_G, Samson_G, Dhoni_G, Kohli_G, Sky_G])\n",
        "\n",
        "#Points\n",
        "Sachin_PTS = [2832,2430,2323,2201,1970,2078,1616,2133,83,782]\n",
        "Rahul_PTS = [1653,1426,1779,1688,1619,1312,1129,1170,1245,1154]\n",
        "Smith_PTS = [2478,2132,2250,2304,2258,2111,1683,2036,2089,1743]\n",
        "Sami_PTS = [2122,1881,1978,1504,1943,1970,1245,1920,2112,966]\n",
        "Pollard_PTS = [1292,1443,1695,1624,1503,1784,1113,1296,1297,646]\n",
        "Morris_PTS = [1572,1561,1496,1746,1678,1438,1025,1232,1281,928]\n",
        "Samson_PTS = [1258,1104,1684,1781,841,1268,1189,1186,1185,1564]\n",
        "Dhoni_PTS = [903,903,1624,1871,2472,2161,1850,2280,2593,686]\n",
        "Kohli_PTS = [597,597,597,1361,1619,2026,852,0,159,904]\n",
        "Sky_PTS = [2040,1397,1254,2386,2045,1941,1082,1463,1028,1331]\n",
        "#Matrix\n",
        "Points = np.array([Sachin_PTS, Rahul_PTS, Smith_PTS, Sami_PTS, Pollard_PTS, Morris_PTS, Samson_PTS, Dhoni_PTS, Kohli_PTS, Sky_PTS])"
      ]
    },
    {
      "cell_type": "code",
      "execution_count": null,
      "id": "3e4ddba6-3e69-4570-90b1-1f1a40818d65",
      "metadata": {
        "id": "3e4ddba6-3e69-4570-90b1-1f1a40818d65",
        "outputId": "c8574eec-e2a2-452d-b502-9770d78da594"
      },
      "outputs": [
        {
          "data": {
            "text/plain": [
              "array([[15946875, 17718750, 19490625, 21262500, 23034375, 24806250,\n",
              "        25244493, 27849149, 30453805, 23500000],\n",
              "       [12000000, 12744189, 13488377, 14232567, 14976754, 16324500,\n",
              "        18038573, 19752645, 21466718, 23180790],\n",
              "       [ 4621800,  5828090, 13041250, 14410581, 15779912, 14500000,\n",
              "        16022500, 17545000, 19067500, 20644400],\n",
              "       [ 3713640,  4694041, 13041250, 14410581, 15779912, 17149243,\n",
              "        18518574, 19450000, 22407474, 22458000],\n",
              "       [ 4493160,  4806720,  6061274, 13758000, 15202590, 16647180,\n",
              "        18091770, 19536360, 20513178, 21436271],\n",
              "       [ 3348000,  4235220, 12455000, 14410581, 15779912, 14500000,\n",
              "        16022500, 17545000, 19067500, 20644400],\n",
              "       [ 3144240,  3380160,  3615960,  4574189, 13520500, 14940153,\n",
              "        16359805, 17779458, 18668431, 20068563],\n",
              "       [       0,        0,  4171200,  4484040,  4796880,  6053663,\n",
              "        15506632, 16669630, 17832627, 18995624],\n",
              "       [       0,        0,        0,  4822800,  5184480,  5546160,\n",
              "         6993708, 16402500, 17632688, 18862875],\n",
              "       [ 3031920,  3841443, 13041250, 14410581, 15779912, 14200000,\n",
              "        15691000, 17182000, 18673000, 15000000]])"
            ]
          },
          "execution_count": 2,
          "metadata": {},
          "output_type": "execute_result"
        }
      ],
      "source": [
        "Salary #matrix"
      ]
    },
    {
      "cell_type": "code",
      "execution_count": null,
      "id": "d44cfd89-6593-4177-8528-e4f182f59e61",
      "metadata": {
        "id": "d44cfd89-6593-4177-8528-e4f182f59e61",
        "outputId": "2c45faa3-6f5c-4f6d-893d-db3c994c68ca"
      },
      "outputs": [
        {
          "data": {
            "text/plain": [
              "array([[80, 77, 82, 82, 73, 82, 58, 78,  6, 35],\n",
              "       [82, 57, 82, 79, 76, 72, 60, 72, 79, 80],\n",
              "       [79, 78, 75, 81, 76, 79, 62, 76, 77, 69],\n",
              "       [80, 65, 77, 66, 69, 77, 55, 67, 77, 40],\n",
              "       [82, 82, 82, 79, 82, 78, 54, 76, 71, 41],\n",
              "       [70, 69, 67, 77, 70, 77, 57, 74, 79, 44],\n",
              "       [78, 64, 80, 78, 45, 80, 60, 70, 62, 82],\n",
              "       [35, 35, 80, 74, 82, 78, 66, 81, 81, 27],\n",
              "       [40, 40, 40, 81, 78, 81, 39,  0, 10, 51],\n",
              "       [75, 51, 51, 79, 77, 76, 49, 69, 54, 62]])"
            ]
          },
          "execution_count": 3,
          "metadata": {},
          "output_type": "execute_result"
        }
      ],
      "source": [
        "Games"
      ]
    },
    {
      "cell_type": "code",
      "execution_count": null,
      "id": "0ff06a40-5a50-43ff-aa21-f3e1e69b334b",
      "metadata": {
        "id": "0ff06a40-5a50-43ff-aa21-f3e1e69b334b",
        "outputId": "7f932237-d61e-4c45-cafc-47133899a429"
      },
      "outputs": [
        {
          "data": {
            "text/plain": [
              "array([70, 69, 67, 77, 70, 77, 57, 74, 79, 44])"
            ]
          },
          "execution_count": 4,
          "metadata": {},
          "output_type": "execute_result"
        }
      ],
      "source": [
        "Games[5]"
      ]
    },
    {
      "cell_type": "code",
      "execution_count": null,
      "id": "4651b7ca-6670-4701-b0ba-84070ebf0946",
      "metadata": {
        "id": "4651b7ca-6670-4701-b0ba-84070ebf0946",
        "outputId": "ab4c8381-ed22-482c-8514-276ad1a0883f"
      },
      "outputs": [
        {
          "data": {
            "text/plain": [
              "array([[80, 77, 82, 82, 73, 82, 58, 78,  6, 35],\n",
              "       [82, 57, 82, 79, 76, 72, 60, 72, 79, 80],\n",
              "       [79, 78, 75, 81, 76, 79, 62, 76, 77, 69],\n",
              "       [80, 65, 77, 66, 69, 77, 55, 67, 77, 40],\n",
              "       [82, 82, 82, 79, 82, 78, 54, 76, 71, 41]])"
            ]
          },
          "execution_count": 5,
          "metadata": {},
          "output_type": "execute_result"
        }
      ],
      "source": [
        "Games[0:5]"
      ]
    },
    {
      "cell_type": "code",
      "execution_count": null,
      "id": "aed7e2fe-f189-4d9b-965a-da5eec26241b",
      "metadata": {
        "id": "aed7e2fe-f189-4d9b-965a-da5eec26241b",
        "outputId": "61a63842-7fd2-4851-cee8-6abbe30e1746"
      },
      "outputs": [
        {
          "data": {
            "text/plain": [
              "np.int64(82)"
            ]
          },
          "execution_count": 6,
          "metadata": {},
          "output_type": "execute_result"
        }
      ],
      "source": [
        "Games[0,5]"
      ]
    },
    {
      "cell_type": "code",
      "execution_count": null,
      "id": "253c0039-0f7a-4cfa-b5c5-6c93da85ca3f",
      "metadata": {
        "id": "253c0039-0f7a-4cfa-b5c5-6c93da85ca3f",
        "outputId": "f3df56fb-7183-4958-c3eb-ba20495400ff"
      },
      "outputs": [
        {
          "data": {
            "text/plain": [
              "array([[80, 77, 82, 82, 73, 82, 58, 78,  6, 35],\n",
              "       [82, 57, 82, 79, 76, 72, 60, 72, 79, 80]])"
            ]
          },
          "execution_count": 7,
          "metadata": {},
          "output_type": "execute_result"
        }
      ],
      "source": [
        "Games[0:2]"
      ]
    },
    {
      "cell_type": "code",
      "execution_count": null,
      "id": "f1f770d1-3ae0-43d8-b32e-409bb150d119",
      "metadata": {
        "id": "f1f770d1-3ae0-43d8-b32e-409bb150d119",
        "outputId": "9bb4566e-411d-4307-b254-b26506c19418"
      },
      "outputs": [
        {
          "data": {
            "text/plain": [
              "array([[2832, 2430, 2323, 2201, 1970, 2078, 1616, 2133,   83,  782],\n",
              "       [1653, 1426, 1779, 1688, 1619, 1312, 1129, 1170, 1245, 1154],\n",
              "       [2478, 2132, 2250, 2304, 2258, 2111, 1683, 2036, 2089, 1743],\n",
              "       [2122, 1881, 1978, 1504, 1943, 1970, 1245, 1920, 2112,  966],\n",
              "       [1292, 1443, 1695, 1624, 1503, 1784, 1113, 1296, 1297,  646],\n",
              "       [1572, 1561, 1496, 1746, 1678, 1438, 1025, 1232, 1281,  928],\n",
              "       [1258, 1104, 1684, 1781,  841, 1268, 1189, 1186, 1185, 1564],\n",
              "       [ 903,  903, 1624, 1871, 2472, 2161, 1850, 2280, 2593,  686],\n",
              "       [ 597,  597,  597, 1361, 1619, 2026,  852,    0,  159,  904],\n",
              "       [2040, 1397, 1254, 2386, 2045, 1941, 1082, 1463, 1028, 1331]])"
            ]
          },
          "execution_count": 8,
          "metadata": {},
          "output_type": "execute_result"
        }
      ],
      "source": [
        "Points"
      ]
    },
    {
      "cell_type": "code",
      "execution_count": null,
      "id": "608a0e8d-1f92-4962-be39-86130e920c6a",
      "metadata": {
        "id": "608a0e8d-1f92-4962-be39-86130e920c6a",
        "outputId": "32e05cd2-196b-43d8-989c-c6d64ea29b86"
      },
      "outputs": [
        {
          "data": {
            "text/plain": [
              "array([2832, 2430, 2323, 2201, 1970, 2078, 1616, 2133,   83,  782])"
            ]
          },
          "execution_count": 9,
          "metadata": {},
          "output_type": "execute_result"
        }
      ],
      "source": [
        "Points[0] #Sachin's points"
      ]
    },
    {
      "cell_type": "code",
      "execution_count": null,
      "id": "bce58742-51da-499b-8c2d-89d233af1e4e",
      "metadata": {
        "id": "bce58742-51da-499b-8c2d-89d233af1e4e",
        "outputId": "7deb53a4-7af0-43e4-9676-574fcf8152dc"
      },
      "outputs": [
        {
          "data": {
            "text/plain": [
              "array([[2832, 2430, 2323, 2201, 1970, 2078, 1616, 2133,   83,  782],\n",
              "       [1653, 1426, 1779, 1688, 1619, 1312, 1129, 1170, 1245, 1154],\n",
              "       [2478, 2132, 2250, 2304, 2258, 2111, 1683, 2036, 2089, 1743],\n",
              "       [2122, 1881, 1978, 1504, 1943, 1970, 1245, 1920, 2112,  966],\n",
              "       [1292, 1443, 1695, 1624, 1503, 1784, 1113, 1296, 1297,  646],\n",
              "       [1572, 1561, 1496, 1746, 1678, 1438, 1025, 1232, 1281,  928],\n",
              "       [1258, 1104, 1684, 1781,  841, 1268, 1189, 1186, 1185, 1564],\n",
              "       [ 903,  903, 1624, 1871, 2472, 2161, 1850, 2280, 2593,  686],\n",
              "       [ 597,  597,  597, 1361, 1619, 2026,  852,    0,  159,  904],\n",
              "       [2040, 1397, 1254, 2386, 2045, 1941, 1082, 1463, 1028, 1331]])"
            ]
          },
          "execution_count": 10,
          "metadata": {},
          "output_type": "execute_result"
        }
      ],
      "source": [
        "Points[:] #entire points array"
      ]
    },
    {
      "cell_type": "code",
      "execution_count": null,
      "id": "84ceb371-6178-4fb1-84c5-4dc7481539cc",
      "metadata": {
        "id": "84ceb371-6178-4fb1-84c5-4dc7481539cc",
        "outputId": "77f94483-a65f-4d7a-f4cc-ffe3dd5fab56"
      },
      "outputs": [
        {
          "data": {
            "text/plain": [
              "np.int64(1104)"
            ]
          },
          "execution_count": 11,
          "metadata": {},
          "output_type": "execute_result"
        }
      ],
      "source": [
        "Points[6,1]"
      ]
    },
    {
      "cell_type": "code",
      "execution_count": null,
      "id": "6bf864c5-20ec-4365-a10f-5287abd11cfd",
      "metadata": {
        "id": "6bf864c5-20ec-4365-a10f-5287abd11cfd",
        "outputId": "e88d0123-be37-4518-cb04-a83e5d7eb9ec"
      },
      "outputs": [
        {
          "data": {
            "text/plain": [
              "array([[2122, 1881, 1978, 1504, 1943, 1970, 1245, 1920, 2112,  966],\n",
              "       [1292, 1443, 1695, 1624, 1503, 1784, 1113, 1296, 1297,  646],\n",
              "       [1572, 1561, 1496, 1746, 1678, 1438, 1025, 1232, 1281,  928]])"
            ]
          },
          "execution_count": 12,
          "metadata": {},
          "output_type": "execute_result"
        }
      ],
      "source": [
        "Points[3:6]"
      ]
    },
    {
      "cell_type": "code",
      "execution_count": null,
      "id": "9ab6f216-3ace-48d8-92d6-3ffe4bc2bead",
      "metadata": {
        "id": "9ab6f216-3ace-48d8-92d6-3ffe4bc2bead",
        "outputId": "c59d0cf1-8d4f-443d-d658-0a997ad265bb"
      },
      "outputs": [
        {
          "data": {
            "text/plain": [
              "{'Sachin': 0,\n",
              " 'Rahul': 1,\n",
              " 'Smith': 2,\n",
              " 'Sami': 3,\n",
              " 'Pollard': 4,\n",
              " 'Morris': 5,\n",
              " 'Samson': 6,\n",
              " 'Dhoni': 7,\n",
              " 'Kohli': 8,\n",
              " 'Sky': 9}"
            ]
          },
          "execution_count": 13,
          "metadata": {},
          "output_type": "execute_result"
        }
      ],
      "source": [
        "Pdict"
      ]
    },
    {
      "cell_type": "code",
      "execution_count": null,
      "id": "e6d4a493-c3a4-459a-98de-4a17d67ea821",
      "metadata": {
        "id": "e6d4a493-c3a4-459a-98de-4a17d67ea821",
        "outputId": "085a6878-1b9a-4a33-cbba-24a2da250a58"
      },
      "outputs": [
        {
          "name": "stderr",
          "output_type": "stream",
          "text": [
            "/var/folders/sw/yk13h6zs4gs8w8c4zds8dv0w0000gn/T/ipykernel_2626/3709746658.py:1: RuntimeWarning: divide by zero encountered in divide\n",
            "  Salary/Games\n"
          ]
        },
        {
          "data": {
            "text/plain": [
              "array([[ 199335.9375    ,  230113.63636364,  237690.54878049,\n",
              "         259298.7804878 ,  315539.38356164,  302515.24390244,\n",
              "         435249.87931034,  357040.37179487, 5075634.16666667,\n",
              "         671428.57142857],\n",
              "       [ 146341.46341463,  223582.26315789,  164492.40243902,\n",
              "         180159.07594937,  197062.55263158,  226729.16666667,\n",
              "         300642.88333333,  274342.29166667,  271730.60759494,\n",
              "         289759.875     ],\n",
              "       [  58503.79746835,   74719.1025641 ,  173883.33333333,\n",
              "         177908.40740741,  207630.42105263,  183544.30379747,\n",
              "         258427.41935484,  230855.26315789,  247629.87012987,\n",
              "         299194.20289855],\n",
              "       [  46420.5       ,   72216.01538462,  169366.88311688,\n",
              "         218342.13636364,  228694.37681159,  222717.44155844,\n",
              "         336701.34545455,  290298.50746269,  291006.15584416,\n",
              "         561450.        ],\n",
              "       [  54794.63414634,   58618.53658537,   73917.97560976,\n",
              "         174151.89873418,  185397.43902439,  213425.38461538,\n",
              "         335032.77777778,  257057.36842105,  288918.        ,\n",
              "         522835.87804878],\n",
              "       [  47828.57142857,   61380.        ,  185895.52238806,\n",
              "         187150.4025974 ,  225427.31428571,  188311.68831169,\n",
              "         281096.49122807,  237094.59459459,  241360.75949367,\n",
              "         469190.90909091],\n",
              "       [  40310.76923077,   52815.        ,   45199.5       ,\n",
              "          58643.44871795,  300455.55555556,  186751.9125    ,\n",
              "         272663.41666667,  253992.25714286,  301103.72580645,\n",
              "         244738.57317073],\n",
              "       [      0.        ,       0.        ,   52140.        ,\n",
              "          60595.13513514,   58498.53658537,   77611.06410256,\n",
              "         234948.96969697,  205797.90123457,  220155.88888889,\n",
              "         703541.62962963],\n",
              "       [      0.        ,       0.        ,       0.        ,\n",
              "          59540.74074074,   66467.69230769,   68471.11111111,\n",
              "         179325.84615385,              inf, 1763268.8       ,\n",
              "         369860.29411765],\n",
              "       [  40425.6       ,   75322.41176471,  255710.78431373,\n",
              "         182412.41772152,  204933.92207792,  186842.10526316,\n",
              "         320224.48979592,  249014.49275362,  345796.2962963 ,\n",
              "         241935.48387097]])"
            ]
          },
          "execution_count": 14,
          "metadata": {},
          "output_type": "execute_result"
        }
      ],
      "source": [
        "Salary/Games"
      ]
    },
    {
      "cell_type": "code",
      "execution_count": null,
      "id": "d2e01d7a-8447-452b-9dbb-2b06643b88fd",
      "metadata": {
        "id": "d2e01d7a-8447-452b-9dbb-2b06643b88fd"
      },
      "outputs": [],
      "source": [
        "import warnings\n",
        "warnings.filterwarnings('ignore')"
      ]
    },
    {
      "cell_type": "code",
      "execution_count": null,
      "id": "2de42423-db4e-4d11-9fc3-900f1cd534e6",
      "metadata": {
        "id": "2de42423-db4e-4d11-9fc3-900f1cd534e6"
      },
      "outputs": [],
      "source": [
        "import numpy as np\n",
        "import matplotlib.pyplot as plt"
      ]
    },
    {
      "cell_type": "code",
      "execution_count": null,
      "id": "6303de9b-82a8-47d6-847e-cbf363ddfc91",
      "metadata": {
        "id": "6303de9b-82a8-47d6-847e-cbf363ddfc91",
        "outputId": "617a922b-c550-45a8-b164-b9d3a5c12a8e"
      },
      "outputs": [
        {
          "data": {
            "text/plain": [
              "[<matplotlib.lines.Line2D at 0x10b0a0500>]"
            ]
          },
          "execution_count": 17,
          "metadata": {},
          "output_type": "execute_result"
        },
        {
          "data": {
            "image/png": "[encoded data removed]",
            "text/plain": [
              "<Figure size 640x480 with 1 Axes>"
            ]
          },
          "metadata": {},
          "output_type": "display_data"
        }
      ],
      "source": [
        "plt.plot(Salary[0],marker = 'o', color='black',ls ='-')"
      ]
    },
    {
      "cell_type": "code",
      "execution_count": null,
      "id": "e841c311-7938-4246-9ecc-462d35049ffa",
      "metadata": {
        "id": "e841c311-7938-4246-9ecc-462d35049ffa",
        "outputId": "d4506f68-6ea6-4237-8c50-a5a9c9689803"
      },
      "outputs": [
        {
          "data": {
            "text/plain": [
              "{'2015': 0,\n",
              " '2016': 1,\n",
              " '2017': 2,\n",
              " '2018': 3,\n",
              " '2019': 4,\n",
              " '2020': 5,\n",
              " '2021': 6,\n",
              " '2022': 7,\n",
              " '2023': 8,\n",
              " '2024': 9}"
            ]
          },
          "execution_count": 18,
          "metadata": {},
          "output_type": "execute_result"
        }
      ],
      "source": [
        "Sdict"
      ]
    },
    {
      "cell_type": "code",
      "execution_count": null,
      "id": "da1b24aa-a503-4ec2-b5e4-e80958c40d9e",
      "metadata": {
        "id": "da1b24aa-a503-4ec2-b5e4-e80958c40d9e",
        "outputId": "ecce0d85-5d73-4634-ea97-d6cacfbaec55"
      },
      "outputs": [
        {
          "data": {
            "text/plain": [
              "{'Sachin': 0,\n",
              " 'Rahul': 1,\n",
              " 'Smith': 2,\n",
              " 'Sami': 3,\n",
              " 'Pollard': 4,\n",
              " 'Morris': 5,\n",
              " 'Samson': 6,\n",
              " 'Dhoni': 7,\n",
              " 'Kohli': 8,\n",
              " 'Sky': 9}"
            ]
          },
          "execution_count": 19,
          "metadata": {},
          "output_type": "execute_result"
        }
      ],
      "source": [
        "Pdict"
      ]
    },
    {
      "cell_type": "code",
      "execution_count": null,
      "id": "73744fc5-7111-473c-9bad-ff690b309d79",
      "metadata": {
        "id": "73744fc5-7111-473c-9bad-ff690b309d79",
        "outputId": "2dbac14a-d04e-4844-9744-dd5db5888361"
      },
      "outputs": [
        {
          "data": {
            "text/plain": [
              "([<matplotlib.axis.XTick at 0x10c1776b0>,\n",
              "  <matplotlib.axis.XTick at 0x10c161be0>,\n",
              "  <matplotlib.axis.XTick at 0x10c17b2c0>,\n",
              "  <matplotlib.axis.XTick at 0x10ccd6510>,\n",
              "  <matplotlib.axis.XTick at 0x10ccd6e10>,\n",
              "  <matplotlib.axis.XTick at 0x10ccd76b0>,\n",
              "  <matplotlib.axis.XTick at 0x10ccd6210>,\n",
              "  <matplotlib.axis.XTick at 0x10ccf0200>,\n",
              "  <matplotlib.axis.XTick at 0x10ccf0b60>,\n",
              "  <matplotlib.axis.XTick at 0x10ccf1520>],\n",
              " [Text(0, 0, '2015'),\n",
              "  Text(1, 0, '2016'),\n",
              "  Text(2, 0, '2017'),\n",
              "  Text(3, 0, '2018'),\n",
              "  Text(4, 0, '2019'),\n",
              "  Text(5, 0, '2020'),\n",
              "  Text(6, 0, '2021'),\n",
              "  Text(7, 0, '2022'),\n",
              "  Text(8, 0, '2023'),\n",
              "  Text(9, 0, '2024')])"
            ]
          },
          "execution_count": 29,
          "metadata": {},
          "output_type": "execute_result"
        },
        {
          "data": {
            "image/png": "[encoded data removed]",
            "text/plain": [
              "<Figure size 640x480 with 1 Axes>"
            ]
          },
          "metadata": {},
          "output_type": "display_data"
        }
      ],
      "source": [
        "plt.plot(Salary[0], c= 'blue', ls = '--', marker = 's', ms = 7, label = Players[0])\n",
        "plt.plot(Salary[1], c= 'blue', ls = ':', marker = 'o', ms = 7, label = Players[1])\n",
        "plt.plot(Salary[2], c= 'blue', ls = '-', marker = '^', ms = 7, label = Players[2])\n",
        "plt.plot(Salary[3], c= 'blue', ls = '--', marker = 'D', ms = 7, label = Players[3])\n",
        "plt.plot(Salary[4], c= 'blue', ls = '--', marker = 's', ms = 7, label = Players[4])\n",
        "plt.plot(Salary[5], c= 'blue', ls = '--', marker = 'o', ms = 7, label = Players[5])\n",
        "plt.plot(Salary[0], c= 'blue', ls = '--', marker = 's', ms = 7, label = Players[0])\n",
        "plt.plot(Salary[1], c= 'blue', ls = ':', marker = 'o', ms = 7, label = Players[1])\n",
        "plt.plot(Salary[2], c= 'blue', ls = '-', marker = '^', ms = 7, label = Players[2])\n",
        "plt.plot(Salary[3], c= 'blue', ls = '--', marker = 'D', ms = 7, label = Players[3])\n",
        "plt.plot(Salary[4], c= 'blue', ls = '--', marker = 's', ms = 7, label = Players[4])\n",
        "plt.plot(Salary[5], c= 'blue', ls = '--', marker = 'o', ms = 7, label = Players[5])\n",
        "plt.plot(Salary[6], c= 'blue', ls = '--', marker = '^', ms = 7, label = Players[6])\n",
        "plt.plot(Salary[7], c= 'blue', ls = '--', marker = 'd', ms = 7, label = Players[7])\n",
        "plt.plot(Salary[8], c= 'blue', ls = '--', marker = 's', ms = 7, label = Players[8])\n",
        "plt.plot(Salary[9], c= 'blue', ls = '--', marker = 'o', ms = 7, label = Players[9])\n",
        "plt.legend(loc='upper left', bbox_to_anchor=(1,1))\n",
        "plt.xticks(list(range(10)),Seasons,rotation='horizontal')\n"
      ]
    },
    {
      "cell_type": "code",
      "execution_count": null,
      "id": "6af8a0a5-85e4-4ee2-9f18-f6b3e0adbe3b",
      "metadata": {
        "id": "6af8a0a5-85e4-4ee2-9f18-f6b3e0adbe3b"
      },
      "outputs": [],
      "source": []
    }
  ],
  "metadata": {
    "kernelspec": {
      "display_name": "Python 3 (ipykernel)",
      "language": "python",
      "name": "python3"
    },
    "language_info": {
      "codemirror_mode": {
        "name": "ipython",
        "version": 3
      },
      "file_extension": ".py",
      "mimetype": "text/x-python",
      "name": "python",
      "nbconvert_exporter": "python",
      "pygments_lexer": "ipython3",
      "version": "3.12.4"
    },
    "colab": {
      "provenance": [],
      "include_colab_link": true
    }
  },
  "nbformat": 4,
  "nbformat_minor": 5
}